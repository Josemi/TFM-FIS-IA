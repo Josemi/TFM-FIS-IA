{
 "cells": [
  {
   "cell_type": "code",
   "execution_count": 1,
   "metadata": {},
   "outputs": [],
   "source": [
    "# imports\n",
    "import detectron2\n",
    "from detectron2.utils.logger import setup_logger\n",
    "setup_logger()\n",
    "\n",
    "import math\n",
    "import os\n",
    "import pandas as pd\n",
    "import pickle as pk\n",
    "import numpy as np\n",
    "import cv2\n",
    "from matplotlib import pyplot as plt\n",
    "%matplotlib inline\n",
    "\n",
    "# import de utilities de detectron\n",
    "from detectron2 import model_zoo\n",
    "from detectron2.engine import DefaultPredictor\n",
    "from detectron2.config import get_cfg\n",
    "from detectron2.utils.visualizer import Visualizer\n",
    "from detectron2.data import MetadataCatalog"
   ]
  },
  {
   "cell_type": "code",
   "execution_count": 2,
   "metadata": {},
   "outputs": [],
   "source": [
    "#Carga del modelo\n",
    "cfg = get_cfg()\n",
    "cfg.merge_from_file(model_zoo.get_config_file(\"COCO-Keypoints/keypoint_rcnn_R_50_FPN_3x.yaml\"))\n",
    "cfg.MODEL.ROI_HEADS.SCORE_THRESH_TEST = 0.99  # set threshold for this model\n",
    "cfg.MODEL.WEIGHTS = model_zoo.get_checkpoint_url(\"COCO-Keypoints/keypoint_rcnn_R_50_FPN_3x.yaml\")\n",
    "predictor = DefaultPredictor(cfg)"
   ]
  },
  {
   "cell_type": "code",
   "execution_count": 3,
   "metadata": {},
   "outputs": [],
   "source": [
    "#Lectura de la imagen\n",
    "frame = cv2.imread(\"p.jpeg\")\n",
    "o = predictor(frame)\n",
    "pkP = o.get(\"instances\").pred_keypoints\n",
    "if len(pkP)>0:\n",
    "    x = pkP[0][:,0].cpu().numpy()\n",
    "    y = pkP[0][:,1].cpu().numpy()"
   ]
  },
  {
   "cell_type": "code",
   "execution_count": 4,
   "metadata": {},
   "outputs": [
    {
     "data": {
      "text/plain": [
       "array([213.49094, 226.98407, 199.99782, 246.41414, 181.10745, 283.11545,\n",
       "       150.34314, 354.3591 ,  71.00359, 307.94278, 115.80075, 255.04974,\n",
       "       162.21709, 262.6059 , 131.45277, 186.5047 , 198.37865],\n",
       "      dtype=float32)"
      ]
     },
     "execution_count": 4,
     "metadata": {},
     "output_type": "execute_result"
    }
   ],
   "source": [
    "x"
   ]
  },
  {
   "cell_type": "code",
   "execution_count": 5,
   "metadata": {},
   "outputs": [
    {
     "data": {
      "text/plain": [
       "array([169.78755, 157.37067, 160.60986, 166.00851, 167.08824, 229.17273,\n",
       "       231.87206, 162.76932, 165.46864,  85.02875,  87.18821, 404.08902,\n",
       "       395.99103, 492.6269 , 485.6086 , 634.07153, 620.57495],\n",
       "      dtype=float32)"
      ]
     },
     "execution_count": 5,
     "metadata": {},
     "output_type": "execute_result"
    }
   ],
   "source": [
    "y"
   ]
  },
  {
   "cell_type": "code",
   "execution_count": 6,
   "metadata": {},
   "outputs": [
    {
     "data": {
      "text/plain": [
       "(900, 0)"
      ]
     },
     "execution_count": 6,
     "metadata": {},
     "output_type": "execute_result"
    },
    {
     "data": {
      "image/png": "[encoded data removed]",
      "text/plain": [
       "<Figure size 720x1368 with 1 Axes>"
      ]
     },
     "metadata": {
      "needs_background": "light"
     },
     "output_type": "display_data"
    }
   ],
   "source": [
    "fig, ax = plt.subplots(figsize=(10,19))\n",
    "ax.scatter(x, y)\n",
    "\n",
    "for i, txt in enumerate(range(len(x))):\n",
    "    ax.annotate(i, (x[i], y[i]))\n",
    "    \n",
    "plt.ylim(900,0)"
   ]
  },
  {
   "cell_type": "code",
   "execution_count": 7,
   "metadata": {},
   "outputs": [],
   "source": [
    "def calcularDistancia(x1,y1,x2,y2):\n",
    "    return ((x1-x2)**2 + (y1-y2)**2)**0.5"
   ]
  },
  {
   "cell_type": "code",
   "execution_count": 8,
   "metadata": {},
   "outputs": [],
   "source": [
    "def calcularVector(x1,y1,x2,y2):\n",
    "    return [x1-x2,y1-y2]"
   ]
  },
  {
   "cell_type": "code",
   "execution_count": 9,
   "metadata": {},
   "outputs": [],
   "source": [
    "def calcularAngulo(v1,v2):\n",
    "    uv1 = v1 / np.linalg.norm(v1)\n",
    "    uv2 = v2 / np.linalg.norm(v2)\n",
    "    dp = np.dot(uv1, uv2)\n",
    "    return math.degrees(np.arccos(dp))"
   ]
  },
  {
   "cell_type": "code",
   "execution_count": 10,
   "metadata": {},
   "outputs": [
    {
     "data": {
      "text/plain": [
       "array([213.49094, 226.98407, 199.99782, 246.41414, 181.10745, 283.11545,\n",
       "       150.34314, 354.3591 ,  71.00359, 307.94278, 115.80075, 255.04974,\n",
       "       162.21709, 262.6059 , 131.45277, 186.5047 , 198.37865],\n",
       "      dtype=float32)"
      ]
     },
     "execution_count": 10,
     "metadata": {},
     "output_type": "execute_result"
    }
   ],
   "source": [
    "x"
   ]
  },
  {
   "cell_type": "code",
   "execution_count": 11,
   "metadata": {},
   "outputs": [],
   "source": [
    "v1 = calcularVector(x[5],y[5],x[7],y[7])\n",
    "v2 = calcularVector(x[7],y[7],x[9],y[9])"
   ]
  },
  {
   "cell_type": "code",
   "execution_count": 12,
   "metadata": {},
   "outputs": [
    {
     "data": {
      "text/plain": [
       "77.85395223552536"
      ]
     },
     "execution_count": 12,
     "metadata": {},
     "output_type": "execute_result"
    }
   ],
   "source": [
    "calcularAngulo(v1,v2)"
   ]
  },
  {
   "cell_type": "code",
   "execution_count": 13,
   "metadata": {},
   "outputs": [],
   "source": [
    "def calcularPuntoMedio(x1,y1,x2,y2):\n",
    "    return ((x1+x2)/2,(y1+y2)/2)"
   ]
  },
  {
   "cell_type": "code",
   "execution_count": 14,
   "metadata": {},
   "outputs": [],
   "source": [
    "class Posicion():\n",
    "    \n",
    "    def __init__(self,x,y):\n",
    "        self.nariz = [x[0],y[0]]\n",
    "        self.ojoI = [x[1],y[1]]\n",
    "        self.ojoD = [x[2],y[2]]\n",
    "        self.orejaI=[x[3],y[3]]\n",
    "        self.orejaD=[x[4],y[4]]\n",
    "        self.hombroI=[x[5],y[5]]\n",
    "        self.hombroD=[x[6],y[6]]\n",
    "        self.cuello = self.calcularPuntoMedio(self.hombroI,self.hombroD)\n",
    "        self.angCuelloSupI = self.calcularAngulo(self.hombroI,self.cuello,self.nariz)\n",
    "        self.angCuelloSupD = self.calcularAngulo(self.hombroD,self.cuello,self.nariz)\n",
    "        self.codoI = [x[7],y[7]]\n",
    "        self.codoD = [x[8],y[8]]\n",
    "        self.manoI=[x[9],y[9]]\n",
    "        self.manoD = [x[10],y[10]]\n",
    "        self.angCodoI = self.calcularAngulo(self.hombroI,self.codoI,self.manoI)\n",
    "        self.angCodoD = self.calcularAngulo(self.hombroD,self.codoD,self.manoD)\n",
    "        self.angHombroI = self.calcularAngulo(self.cuello,self.hombroI,self.codoI)\n",
    "        self.angHombroD = self.calcularAngulo(self.cuello,self.hombroD,self.codoD)\n",
    "        self.caderaI = [x[11],y[11]]\n",
    "        self.caderaD = [x[12],y[12]]\n",
    "        self.cadera = self.calcularPuntoMedio(self.caderaI,self.caderaD)\n",
    "        self.angCuelloInfI =self.calcularAngulo(self.hombroI,self.cuello,self.cadera)\n",
    "        self.angCuelloInfD =self.calcularAngulo(self.hombroD,self.cuello,self.cadera)\n",
    "        self.rodillaI = [x[13],y[13]]\n",
    "        self.rodillaD = [x[14],y[14]]\n",
    "        self.angCaderaI = self.calcularAngulo(self.cadera,self.caderaI,self.rodillaI)\n",
    "        self.angCaderaD = self.calcularAngulo(self.cadera,self.caderaD,self.rodillaD)\n",
    "        self.tobilloI = [x[15],y[15]]\n",
    "        self.tobilloD = [x[16],y[16]]\n",
    "        self.angRodillaI = self.calcularAngulo(self.caderaI,self.rodillaI,self.tobilloI)\n",
    "        self.angRodillaD = self.calcularAngulo(self.caderaD,self.rodillaD,self.tobilloD)\n",
    "        self.distAntebrazoI = self.calcularDistancia(self.manoI,self.codoI)\n",
    "        self.distAntebrazoD = self.calcularDistancia(self.manoD,self.codoD)\n",
    "        self.distBrazoI = self.calcularDistancia(self.codoI,self.hombroI)\n",
    "        self.distBrazoD = self.calcularDistancia(self.codoD,self.hombroD)\n",
    "        self.distCuello = self.calcularDistancia(self.nariz,self.cuello)\n",
    "        self.distTronco = self.calcularDistancia(self.cuello,self.cadera)\n",
    "        self.distMusloI = self.calcularDistancia(self.caderaI,se-*lf.rodillaI)\n",
    "        self.distMusloD = self.calcularDistancia(self.caderaD,self.rodillaD)\n",
    "        self.distPiernaI = self.calcularDistancia(self.rodillaI,self.tobilloI)\n",
    "        self.distPiernaD = self.calcularDistancia(self.rodillaD,self.tobilloD)\n",
    "        self.distHombros = self.calcularDistancia(self.hombroI,self.hombroD)\n",
    "        self.distCadera = self.calcularDistancia(self.caderaI,self.caderaD)\n",
    "        \n",
    "    def calcularPuntoMedio(self,p1,p2):\n",
    "        return [(p1[0]+p2[0])/2,(p1[1]+p2[1])/2]\n",
    "    \n",
    "    def calcularAngulo(self,p1,p2,p3):\n",
    "        v1 = self.calcularVector(p1,p2)\n",
    "        v2 = self.calcularVector(p3,p2)\n",
    "        uv1 = v1 / np.linalg.norm(v1)\n",
    "        uv2 = v2 / np.linalg.norm(v2)\n",
    "        dp = np.dot(uv1, uv2)\n",
    "        return math.degrees(np.arccos(dp))\n",
    "    \n",
    "    def calcularVector(self,p1,p2):\n",
    "        return [p2[0]-p1[0],p2[1]-p1[1]]\n",
    "    \n",
    "    def calcularDistancia(self,p1,p2):\n",
    "        return ((p1[0]-p2[0])**2 + (p1[1]-p2[1])**2)**0.5"
   ]
  },
  {
   "cell_type": "code",
   "execution_count": 15,
   "metadata": {},
   "outputs": [],
   "source": [
    "a = Posicion(x,y)"
   ]
  },
  {
   "cell_type": "code",
   "execution_count": 17,
   "metadata": {},
   "outputs": [
    {
     "name": "stdout",
     "output_type": "stream",
     "text": [
      "Frame 300\r"
     ]
    }
   ],
   "source": [
    "vc = cv2.VideoCapture('../pruebas/videos-prueba/Videos/Josemi/sentado3-caja.webm')\n",
    "\n",
    "if (vc.isOpened()==False):\n",
    "    print(\"Error\")\n",
    "\n",
    "(grabbed, frame) = vc.read()\n",
    "pos = [] \n",
    "i = 0\n",
    "while(vc.isOpened()):\n",
    "    i+=1\n",
    "    ret,frame = vc.read()\n",
    "    if ret == True:\n",
    "        o = predictor(frame)\n",
    "        pkP = o.get(\"instances\").pred_keypoints\n",
    "        if len(pkP)>0:\n",
    "            x = pkP[0][:,0].cpu().numpy()\n",
    "            y = pkP[0][:,1].cpu().numpy()\n",
    "        pos.append(Posicion(x,y))\n",
    "    else:\n",
    "        break\n",
    "    print(\"Frame \" + str(i),end=\"\\r\")\n",
    "vc.release()\n",
    "cv2.destroyAllWindows()"
   ]
  },
  {
   "cell_type": "code",
   "execution_count": null,
   "metadata": {},
   "outputs": [],
   "source": []
  }
 ],
 "metadata": {
  "kernelspec": {
   "display_name": "FIS(py-3.6)",
   "language": "python",
   "name": "tfm"
  },
  "language_info": {
   "codemirror_mode": {
    "name": "ipython",
    "version": 3
   },
   "file_extension": ".py",
   "mimetype": "text/x-python",
   "name": "python",
   "nbconvert_exporter": "python",
   "pygments_lexer": "ipython3",
   "version": "3.6.10"
  }
 },
 "nbformat": 4,
 "nbformat_minor": 4
}
