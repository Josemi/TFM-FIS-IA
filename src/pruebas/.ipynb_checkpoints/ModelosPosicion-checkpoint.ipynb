{
 "cells": [
  {
   "cell_type": "markdown",
   "metadata": {},
   "source": [
    "## Comparación de modelos COCO Person Keypoint Detection Baselines with Keypoint R-CNN \n",
    "### Autor: José Miguel Ramírez Sanz\n",
    "#### Imports"
   ]
  },
  {
   "cell_type": "code",
   "execution_count": 1,
   "metadata": {},
   "outputs": [],
   "source": [
    "import detectron2\n",
    "from detectron2.utils.logger import setup_logger\n",
    "setup_logger()\n",
    "\n",
    "import timeit\n",
    "import math\n",
    "import os\n",
    "import pandas as pd\n",
    "import pickle as pk\n",
    "import numpy as np\n",
    "import cv2\n",
    "from matplotlib import pyplot as plt\n",
    "%matplotlib inline\n",
    "\n",
    "# import de utilities de detectron\n",
    "from detectron2 import model_zoo\n",
    "from detectron2.engine import DefaultPredictor\n",
    "from detectron2.config import get_cfg\n",
    "from detectron2.utils.visualizer import Visualizer\n",
    "from detectron2.data import MetadataCatalog"
   ]
  },
  {
   "cell_type": "markdown",
   "metadata": {},
   "source": [
    "#### Modelos"
   ]
  },
  {
   "cell_type": "code",
   "execution_count": 2,
   "metadata": {},
   "outputs": [],
   "source": [
    "COCOPerson=[\"COCO-Keypoints/keypoint_rcnn_R_50_FPN_1x.yaml\",\n",
    "        \"COCO-Keypoints/keypoint_rcnn_R_50_FPN_3x.yaml\",\n",
    "        \"COCO-Keypoints/keypoint_rcnn_R_101_FPN_3x.yaml\",\n",
    "        \"COCO-Keypoints/keypoint_rcnn_X_101_32x8d_FPN_3x.yaml\"]"
   ]
  },
  {
   "cell_type": "markdown",
   "metadata": {},
   "source": [
    "#### Carga de los vídeos"
   ]
  },
  {
   "cell_type": "code",
   "execution_count": 3,
   "metadata": {},
   "outputs": [],
   "source": [
    "vds = ['../pruebas/videos-prueba/Videos/Josemi/sentado3-caja.webm',\n",
    "       '../pruebas/videos-prueba/Videos/Josemi/depie.webm',\n",
    "      '../pruebas/videos-prueba/Videos/Josemi/sentado1.webm',\n",
    "      '../pruebas/videos-prueba/Videos/Josemi/sentado2-cruzado.webm',\n",
    "      '../pruebas/videos-prueba/Videos/Josemi/sentado4-remangado.webm',\n",
    "      '../pruebas/videos-prueba/Videos/Josemi/sentado5-chaqueta-abierta.webm',\n",
    "      '../pruebas/videos-prueba/Videos/Josemi/sentado6-camiseta.webm']"
   ]
  },
  {
   "cell_type": "markdown",
   "metadata": {},
   "source": [
    "#### Función"
   ]
  },
  {
   "cell_type": "code",
   "execution_count": 8,
   "metadata": {},
   "outputs": [],
   "source": [
    "def posicionamiento(modelo,vd,th,vis=False):\n",
    "    \n",
    "    #Tiempo de carga del modelo\n",
    "    start1 = timeit.default_timer()\n",
    "    \n",
    "    cfg = get_cfg()\n",
    "    cfg.merge_from_file(model_zoo.get_config_file(modelo))\n",
    "    cfg.MODEL.ROI_HEADS.SCORE_THRESH_TEST = th\n",
    "    cfg.MODEL.WEIGHTS = model_zoo.get_checkpoint_url(modelo)\n",
    "    predictor = DefaultPredictor(cfg)\n",
    "    \n",
    "    stop1 = timeit.default_timer()\n",
    "    \n",
    "    vc = cv2.VideoCapture(vd)\n",
    "\n",
    "    if (vc.isOpened()==False):\n",
    "        print(\"Error\")\n",
    "    \n",
    "    #Tiempo de procesado del vídeo\n",
    "    start = timeit.default_timer()\n",
    "    (grabbed, frame) = vc.read()\n",
    "    i=0\n",
    "    while(vc.isOpened()):\n",
    "        i+=1\n",
    "        ret,frame = vc.read()\n",
    "        if ret == True:\n",
    "            o = predictor(frame)\n",
    "            if vis:\n",
    "                v = Visualizer(frame[:,:,::-1], MetadataCatalog.get(cfg.DATASETS.TRAIN[0]), scale=1.2)\n",
    "                v = v.draw_instance_predictions(o[\"instances\"].to(\"cpu\"))\n",
    "                imVisualizer = cv2.cvtColor(v.get_image()[:, :, ::-1],cv2.COLOR_BGR2RGB)\n",
    "                plt.figure(figsize=(18, 16))\n",
    "                plt.imshow(imVisualizer)\n",
    "                plt.title(\"Frame\" + str(i))\n",
    "                plt.show()\n",
    "        else:\n",
    "            break\n",
    "        print(\"Frame \" + str(i),end=\"\\r\")\n",
    "    vc.release()\n",
    "    cv2.destroyAllWindows()\n",
    "    \n",
    "    stop = timeit.default_timer()\n",
    "    \n",
    "    return [modelo,stop1-start1,stop-start,i-1]"
   ]
  },
  {
   "cell_type": "code",
   "execution_count": 18,
   "metadata": {},
   "outputs": [
    {
     "name": "stdout",
     "output_type": "stream",
     "text": [
      "../pruebas/videos-prueba/Videos/Josemi/sentado3-caja.webm\n",
      "COCO-Keypoints/keypoint_rcnn_R_50_FPN_1x.yaml\n",
      "COCO-Keypoints/keypoint_rcnn_R_50_FPN_3x.yaml\n",
      "COCO-Keypoints/keypoint_rcnn_R_101_FPN_3x.yaml\n",
      "COCO-Keypoints/keypoint_rcnn_X_101_32x8d_FPN_3x.yaml\n",
      "Frame 300\n",
      "\n",
      "../pruebas/videos-prueba/Videos/Josemi/depie.webm\n",
      "COCO-Keypoints/keypoint_rcnn_R_50_FPN_1x.yaml\n",
      "COCO-Keypoints/keypoint_rcnn_R_50_FPN_3x.yaml\n",
      "COCO-Keypoints/keypoint_rcnn_R_101_FPN_3x.yaml\n",
      "COCO-Keypoints/keypoint_rcnn_X_101_32x8d_FPN_3x.yaml\n",
      "Frame 259\n",
      "\n",
      "../pruebas/videos-prueba/Videos/Josemi/sentado1.webm\n",
      "COCO-Keypoints/keypoint_rcnn_R_50_FPN_1x.yaml\n",
      "COCO-Keypoints/keypoint_rcnn_R_50_FPN_3x.yaml\n",
      "COCO-Keypoints/keypoint_rcnn_R_101_FPN_3x.yaml\n",
      "COCO-Keypoints/keypoint_rcnn_X_101_32x8d_FPN_3x.yaml\n",
      "Frame 446\n",
      "\n",
      "../pruebas/videos-prueba/Videos/Josemi/sentado2-cruzado.webm\n",
      "COCO-Keypoints/keypoint_rcnn_R_50_FPN_1x.yaml\n",
      "COCO-Keypoints/keypoint_rcnn_R_50_FPN_3x.yaml\n",
      "COCO-Keypoints/keypoint_rcnn_R_101_FPN_3x.yaml\n",
      "COCO-Keypoints/keypoint_rcnn_X_101_32x8d_FPN_3x.yaml\n",
      "Frame 287\n",
      "\n",
      "../pruebas/videos-prueba/Videos/Josemi/sentado4-remangado.webm\n",
      "COCO-Keypoints/keypoint_rcnn_R_50_FPN_1x.yaml\n",
      "COCO-Keypoints/keypoint_rcnn_R_50_FPN_3x.yaml\n",
      "COCO-Keypoints/keypoint_rcnn_R_101_FPN_3x.yaml\n",
      "COCO-Keypoints/keypoint_rcnn_X_101_32x8d_FPN_3x.yaml\n",
      "Frame 220\n",
      "\n",
      "../pruebas/videos-prueba/Videos/Josemi/sentado5-chaqueta-abierta.webm\n",
      "COCO-Keypoints/keypoint_rcnn_R_50_FPN_1x.yaml\n",
      "COCO-Keypoints/keypoint_rcnn_R_50_FPN_3x.yaml\n",
      "COCO-Keypoints/keypoint_rcnn_R_101_FPN_3x.yaml\n",
      "COCO-Keypoints/keypoint_rcnn_X_101_32x8d_FPN_3x.yaml\n",
      "Frame 282\n",
      "\n",
      "../pruebas/videos-prueba/Videos/Josemi/sentado6-camiseta.webm\n",
      "COCO-Keypoints/keypoint_rcnn_R_50_FPN_1x.yaml\n",
      "COCO-Keypoints/keypoint_rcnn_R_50_FPN_3x.yaml\n",
      "COCO-Keypoints/keypoint_rcnn_R_101_FPN_3x.yaml\n",
      "COCO-Keypoints/keypoint_rcnn_X_101_32x8d_FPN_3x.yaml\n",
      "Frame 195\n",
      "\n"
     ]
    }
   ],
   "source": [
    "res=[]\n",
    "for vd in vds:\n",
    "    print(vd)\n",
    "    for i in COCOPerson:\n",
    "        print(i)\n",
    "        res.append(posicionamiento(i,vd,0.99))\n",
    "    print(\"\\n\")"
   ]
  },
  {
   "cell_type": "code",
   "execution_count": 20,
   "metadata": {},
   "outputs": [],
   "source": [
    "a = pd.DataFrame(res)"
   ]
  },
  {
   "cell_type": "code",
   "execution_count": 23,
   "metadata": {},
   "outputs": [],
   "source": [
    "a=a.rename(columns={0:\"Modelo\",1:\"TCarga\",2:\"TProc\",3:\"NFrames\"})"
   ]
  },
  {
   "cell_type": "code",
   "execution_count": 24,
   "metadata": {},
   "outputs": [
    {
     "data": {
      "text/html": [
       "<div>\n",
       "<style scoped>\n",
       "    .dataframe tbody tr th:only-of-type {\n",
       "        vertical-align: middle;\n",
       "    }\n",
       "\n",
       "    .dataframe tbody tr th {\n",
       "        vertical-align: top;\n",
       "    }\n",
       "\n",
       "    .dataframe thead th {\n",
       "        text-align: right;\n",
       "    }\n",
       "</style>\n",
       "<table border=\"1\" class=\"dataframe\">\n",
       "  <thead>\n",
       "    <tr style=\"text-align: right;\">\n",
       "      <th></th>\n",
       "      <th>Modelo</th>\n",
       "      <th>TCarga</th>\n",
       "      <th>TProc</th>\n",
       "      <th>NFrames</th>\n",
       "    </tr>\n",
       "  </thead>\n",
       "  <tbody>\n",
       "    <tr>\n",
       "      <th>0</th>\n",
       "      <td>COCO-Keypoints/keypoint_rcnn_R_50_FPN_1x.yaml</td>\n",
       "      <td>0.982418</td>\n",
       "      <td>32.405615</td>\n",
       "      <td>300</td>\n",
       "    </tr>\n",
       "    <tr>\n",
       "      <th>1</th>\n",
       "      <td>COCO-Keypoints/keypoint_rcnn_R_50_FPN_3x.yaml</td>\n",
       "      <td>0.967697</td>\n",
       "      <td>32.348420</td>\n",
       "      <td>300</td>\n",
       "    </tr>\n",
       "    <tr>\n",
       "      <th>2</th>\n",
       "      <td>COCO-Keypoints/keypoint_rcnn_R_101_FPN_3x.yaml</td>\n",
       "      <td>1.341485</td>\n",
       "      <td>40.043822</td>\n",
       "      <td>300</td>\n",
       "    </tr>\n",
       "    <tr>\n",
       "      <th>3</th>\n",
       "      <td>COCO-Keypoints/keypoint_rcnn_X_101_32x8d_FPN_3...</td>\n",
       "      <td>2.001302</td>\n",
       "      <td>61.341547</td>\n",
       "      <td>300</td>\n",
       "    </tr>\n",
       "    <tr>\n",
       "      <th>4</th>\n",
       "      <td>COCO-Keypoints/keypoint_rcnn_R_50_FPN_1x.yaml</td>\n",
       "      <td>0.942516</td>\n",
       "      <td>27.325322</td>\n",
       "      <td>259</td>\n",
       "    </tr>\n",
       "  </tbody>\n",
       "</table>\n",
       "</div>"
      ],
      "text/plain": [
       "                                              Modelo    TCarga      TProc  \\\n",
       "0      COCO-Keypoints/keypoint_rcnn_R_50_FPN_1x.yaml  0.982418  32.405615   \n",
       "1      COCO-Keypoints/keypoint_rcnn_R_50_FPN_3x.yaml  0.967697  32.348420   \n",
       "2     COCO-Keypoints/keypoint_rcnn_R_101_FPN_3x.yaml  1.341485  40.043822   \n",
       "3  COCO-Keypoints/keypoint_rcnn_X_101_32x8d_FPN_3...  2.001302  61.341547   \n",
       "4      COCO-Keypoints/keypoint_rcnn_R_50_FPN_1x.yaml  0.942516  27.325322   \n",
       "\n",
       "   NFrames  \n",
       "0      300  \n",
       "1      300  \n",
       "2      300  \n",
       "3      300  \n",
       "4      259  "
      ]
     },
     "execution_count": 24,
     "metadata": {},
     "output_type": "execute_result"
    }
   ],
   "source": [
    "a.head()"
   ]
  },
  {
   "cell_type": "code",
   "execution_count": 26,
   "metadata": {},
   "outputs": [],
   "source": [
    "suma = a.groupby('Modelo').sum()"
   ]
  },
  {
   "cell_type": "code",
   "execution_count": 27,
   "metadata": {},
   "outputs": [],
   "source": [
    "suma[\"Ratio\"]=suma[\"TProc\"]/suma[\"NFrames\"]"
   ]
  },
  {
   "cell_type": "code",
   "execution_count": 28,
   "metadata": {},
   "outputs": [
    {
     "data": {
      "text/html": [
       "<div>\n",
       "<style scoped>\n",
       "    .dataframe tbody tr th:only-of-type {\n",
       "        vertical-align: middle;\n",
       "    }\n",
       "\n",
       "    .dataframe tbody tr th {\n",
       "        vertical-align: top;\n",
       "    }\n",
       "\n",
       "    .dataframe thead th {\n",
       "        text-align: right;\n",
       "    }\n",
       "</style>\n",
       "<table border=\"1\" class=\"dataframe\">\n",
       "  <thead>\n",
       "    <tr style=\"text-align: right;\">\n",
       "      <th></th>\n",
       "      <th>TCarga</th>\n",
       "      <th>TProc</th>\n",
       "      <th>NFrames</th>\n",
       "      <th>Ratio</th>\n",
       "    </tr>\n",
       "    <tr>\n",
       "      <th>Modelo</th>\n",
       "      <th></th>\n",
       "      <th></th>\n",
       "      <th></th>\n",
       "      <th></th>\n",
       "    </tr>\n",
       "  </thead>\n",
       "  <tbody>\n",
       "    <tr>\n",
       "      <th>COCO-Keypoints/keypoint_rcnn_R_101_FPN_3x.yaml</th>\n",
       "      <td>13.017239</td>\n",
       "      <td>279.327051</td>\n",
       "      <td>1989</td>\n",
       "      <td>0.140436</td>\n",
       "    </tr>\n",
       "    <tr>\n",
       "      <th>COCO-Keypoints/keypoint_rcnn_R_50_FPN_1x.yaml</th>\n",
       "      <td>8.562254</td>\n",
       "      <td>237.289880</td>\n",
       "      <td>1989</td>\n",
       "      <td>0.119301</td>\n",
       "    </tr>\n",
       "    <tr>\n",
       "      <th>COCO-Keypoints/keypoint_rcnn_R_50_FPN_3x.yaml</th>\n",
       "      <td>9.783479</td>\n",
       "      <td>236.774504</td>\n",
       "      <td>1989</td>\n",
       "      <td>0.119042</td>\n",
       "    </tr>\n",
       "    <tr>\n",
       "      <th>COCO-Keypoints/keypoint_rcnn_X_101_32x8d_FPN_3x.yaml</th>\n",
       "      <td>18.106832</td>\n",
       "      <td>422.024270</td>\n",
       "      <td>1989</td>\n",
       "      <td>0.212179</td>\n",
       "    </tr>\n",
       "  </tbody>\n",
       "</table>\n",
       "</div>"
      ],
      "text/plain": [
       "                                                       TCarga       TProc  \\\n",
       "Modelo                                                                      \n",
       "COCO-Keypoints/keypoint_rcnn_R_101_FPN_3x.yaml      13.017239  279.327051   \n",
       "COCO-Keypoints/keypoint_rcnn_R_50_FPN_1x.yaml        8.562254  237.289880   \n",
       "COCO-Keypoints/keypoint_rcnn_R_50_FPN_3x.yaml        9.783479  236.774504   \n",
       "COCO-Keypoints/keypoint_rcnn_X_101_32x8d_FPN_3x...  18.106832  422.024270   \n",
       "\n",
       "                                                    NFrames     Ratio  \n",
       "Modelo                                                                 \n",
       "COCO-Keypoints/keypoint_rcnn_R_101_FPN_3x.yaml         1989  0.140436  \n",
       "COCO-Keypoints/keypoint_rcnn_R_50_FPN_1x.yaml          1989  0.119301  \n",
       "COCO-Keypoints/keypoint_rcnn_R_50_FPN_3x.yaml          1989  0.119042  \n",
       "COCO-Keypoints/keypoint_rcnn_X_101_32x8d_FPN_3x...     1989  0.212179  "
      ]
     },
     "execution_count": 28,
     "metadata": {},
     "output_type": "execute_result"
    }
   ],
   "source": [
    "suma"
   ]
  },
  {
   "cell_type": "code",
   "execution_count": 29,
   "metadata": {},
   "outputs": [
    {
     "name": "stdout",
     "output_type": "stream",
     "text": [
      "\\begin{tabular}{lrrrr}\n",
      "\\toprule\n",
      "{} &     TCarga &       TProc &  NFrames &     Ratio \\\\\n",
      "Modelo                                             &            &             &          &           \\\\\n",
      "\\midrule\n",
      "COCO-Keypoints/keypoint\\_rcnn\\_R\\_101\\_FPN\\_3x.yaml     &  13.017239 &  279.327051 &     1989 &  0.140436 \\\\\n",
      "COCO-Keypoints/keypoint\\_rcnn\\_R\\_50\\_FPN\\_1x.yaml      &   8.562254 &  237.289880 &     1989 &  0.119301 \\\\\n",
      "COCO-Keypoints/keypoint\\_rcnn\\_R\\_50\\_FPN\\_3x.yaml      &   9.783479 &  236.774504 &     1989 &  0.119042 \\\\\n",
      "COCO-Keypoints/keypoint\\_rcnn\\_X\\_101\\_32x8d\\_FPN\\_3x... &  18.106832 &  422.024270 &     1989 &  0.212179 \\\\\n",
      "\\bottomrule\n",
      "\\end{tabular}\n",
      "\n"
     ]
    }
   ],
   "source": [
    "print(suma.to_latex())"
   ]
  },
  {
   "cell_type": "code",
   "execution_count": null,
   "metadata": {},
   "outputs": [],
   "source": []
  }
 ],
 "metadata": {
  "kernelspec": {
   "display_name": "FIS(py-3.6)",
   "language": "python",
   "name": "tfm"
  },
  "language_info": {
   "codemirror_mode": {
    "name": "ipython",
    "version": 3
   },
   "file_extension": ".py",
   "mimetype": "text/x-python",
   "name": "python",
   "nbconvert_exporter": "python",
   "pygments_lexer": "ipython3",
   "version": "3.6.10"
  }
 },
 "nbformat": 4,
 "nbformat_minor": 4
}
