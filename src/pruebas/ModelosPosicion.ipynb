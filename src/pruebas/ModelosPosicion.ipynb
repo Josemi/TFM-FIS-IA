{
 "cells": [
  {
   "cell_type": "markdown",
   "metadata": {},
   "source": [
    "## Comparación de modelos COCO Person Keypoint Detection Baselines with Keypoint R-CNN \n",
    "### Autor: José Miguel Ramírez Sanz\n",
    "#### Imports"
   ]
  },
  {
   "cell_type": "code",
   "execution_count": 1,
   "metadata": {},
   "outputs": [],
   "source": [
    "import detectron2\n",
    "from detectron2.utils.logger import setup_logger\n",
    "setup_logger()\n",
    "\n",
    "from datetime import datetime as dt\n",
    "import math\n",
    "import os\n",
    "import pandas as pd\n",
    "import pickle as pk\n",
    "import numpy as np\n",
    "import cv2\n",
    "from matplotlib import pyplot as plt\n",
    "%matplotlib inline\n",
    "\n",
    "# import de utilities de detectron\n",
    "from detectron2 import model_zoo\n",
    "from detectron2.engine import DefaultPredictor\n",
    "from detectron2.config import get_cfg\n",
    "from detectron2.utils.visualizer import Visualizer\n",
    "from detectron2.data import MetadataCatalog"
   ]
  },
  {
   "cell_type": "markdown",
   "metadata": {},
   "source": [
    "#### Modelos"
   ]
  },
  {
   "cell_type": "code",
   "execution_count": 2,
   "metadata": {},
   "outputs": [],
   "source": [
    "COCOPerson=[\"COCO-Keypoints/keypoint_rcnn_R_50_FPN_1x.yaml\",\n",
    "        \"COCO-Keypoints/keypoint_rcnn_R_50_FPN_3x.yaml\",\n",
    "        \"COCO-Keypoints/keypoint_rcnn_R_101_FPN_3x.yaml\",\n",
    "        \"COCO-Keypoints/keypoint_rcnn_X_101_32x8d_FPN_3x.yaml\"]"
   ]
  },
  {
   "cell_type": "markdown",
   "metadata": {},
   "source": [
    "#### Carga de los vídeos"
   ]
  },
  {
   "cell_type": "code",
   "execution_count": 3,
   "metadata": {},
   "outputs": [],
   "source": [
    "vds = ['../pruebas/videos-prueba/Videos/Josemi/sentado3-caja.webm',\n",
    "       '../pruebas/videos-prueba/Videos/Josemi/depie.webm',\n",
    "      '../pruebas/videos-prueba/Videos/Josemi/sentado1.webm',\n",
    "      '../pruebas/videos-prueba/Videos/Josemi/sentado2-cruzado.webm',\n",
    "      '../pruebas/videos-prueba/Videos/Josemi/sentado4-remangado.webm',\n",
    "      '../pruebas/videos-prueba/Videos/Josemi/sentado5-chaqueta-abierta.webm',\n",
    "      '../pruebas/videos-prueba/Videos/Josemi/sentado6-camiseta.webm']"
   ]
  },
  {
   "cell_type": "markdown",
   "metadata": {},
   "source": [
    "#### Función"
   ]
  },
  {
   "cell_type": "code",
   "execution_count": 4,
   "metadata": {},
   "outputs": [],
   "source": [
    "def posicionamiento(modelo,vd,th,vis=False):\n",
    "    \n",
    "    #Tiempo de carga del modelo\n",
    "    start1 = dt.now().timestamp()*1000\n",
    "    \n",
    "    cfg = get_cfg()\n",
    "    cfg.merge_from_file(model_zoo.get_config_file(modelo))\n",
    "    cfg.MODEL.ROI_HEADS.SCORE_THRESH_TEST = th\n",
    "    cfg.MODEL.WEIGHTS = model_zoo.get_checkpoint_url(modelo)\n",
    "    predictor = DefaultPredictor(cfg)\n",
    "    \n",
    "    stop1 = dt.now().timestamp()*1000\n",
    "    \n",
    "    vc = cv2.VideoCapture(vd)\n",
    "\n",
    "    if (vc.isOpened()==False):\n",
    "        print(\"Error\")\n",
    "    \n",
    "    #Tiempo de procesado del vídeo\n",
    "    start = dt.now().timestamp()*1000\n",
    "    (grabbed, frame) = vc.read()\n",
    "    i=0\n",
    "    while(vc.isOpened()):\n",
    "        i+=1\n",
    "        ret,frame = vc.read()\n",
    "        if ret == True:\n",
    "            o = predictor(frame)\n",
    "            if vis:\n",
    "                v = Visualizer(frame[:,:,::-1], MetadataCatalog.get(cfg.DATASETS.TRAIN[0]), scale=1.2)\n",
    "                v = v.draw_instance_predictions(o[\"instances\"].to(\"cpu\"))\n",
    "                imVisualizer = cv2.cvtColor(v.get_image()[:, :, ::-1],cv2.COLOR_BGR2RGB)\n",
    "                plt.figure(figsize=(18, 16))\n",
    "                plt.imshow(imVisualizer)\n",
    "                plt.title(\"Frame\" + str(i))\n",
    "                plt.show()\n",
    "        else:\n",
    "            break\n",
    "        print(\"Frame \" + str(i),end=\"\\r\")\n",
    "    stop = dt.now().timestamp()*1000\n",
    "    vc.release()\n",
    "    cv2.destroyAllWindows()\n",
    "    \n",
    "    \n",
    "    return [modelo,stop1-start1,stop-start,i-1]"
   ]
  },
  {
   "cell_type": "code",
   "execution_count": 5,
   "metadata": {},
   "outputs": [
    {
     "name": "stdout",
     "output_type": "stream",
     "text": [
      "../pruebas/videos-prueba/Videos/Josemi/sentado3-caja.webm\n",
      "COCO-Keypoints/keypoint_rcnn_R_50_FPN_1x.yaml\n",
      "COCO-Keypoints/keypoint_rcnn_R_50_FPN_3x.yaml\n",
      "COCO-Keypoints/keypoint_rcnn_R_101_FPN_3x.yaml\n",
      "COCO-Keypoints/keypoint_rcnn_X_101_32x8d_FPN_3x.yaml\n",
      "Frame 300\n",
      "\n",
      "../pruebas/videos-prueba/Videos/Josemi/depie.webm\n",
      "COCO-Keypoints/keypoint_rcnn_R_50_FPN_1x.yaml\n",
      "COCO-Keypoints/keypoint_rcnn_R_50_FPN_3x.yaml\n",
      "COCO-Keypoints/keypoint_rcnn_R_101_FPN_3x.yaml\n",
      "COCO-Keypoints/keypoint_rcnn_X_101_32x8d_FPN_3x.yaml\n",
      "Frame 259\n",
      "\n",
      "../pruebas/videos-prueba/Videos/Josemi/sentado1.webm\n",
      "COCO-Keypoints/keypoint_rcnn_R_50_FPN_1x.yaml\n",
      "COCO-Keypoints/keypoint_rcnn_R_50_FPN_3x.yaml\n",
      "COCO-Keypoints/keypoint_rcnn_R_101_FPN_3x.yaml\n",
      "COCO-Keypoints/keypoint_rcnn_X_101_32x8d_FPN_3x.yaml\n",
      "Frame 446\n",
      "\n",
      "../pruebas/videos-prueba/Videos/Josemi/sentado2-cruzado.webm\n",
      "COCO-Keypoints/keypoint_rcnn_R_50_FPN_1x.yaml\n",
      "COCO-Keypoints/keypoint_rcnn_R_50_FPN_3x.yaml\n",
      "COCO-Keypoints/keypoint_rcnn_R_101_FPN_3x.yaml\n",
      "COCO-Keypoints/keypoint_rcnn_X_101_32x8d_FPN_3x.yaml\n",
      "Frame 287\n",
      "\n",
      "../pruebas/videos-prueba/Videos/Josemi/sentado4-remangado.webm\n",
      "COCO-Keypoints/keypoint_rcnn_R_50_FPN_1x.yaml\n",
      "COCO-Keypoints/keypoint_rcnn_R_50_FPN_3x.yaml\n",
      "COCO-Keypoints/keypoint_rcnn_R_101_FPN_3x.yaml\n",
      "COCO-Keypoints/keypoint_rcnn_X_101_32x8d_FPN_3x.yaml\n",
      "Frame 220\n",
      "\n",
      "../pruebas/videos-prueba/Videos/Josemi/sentado5-chaqueta-abierta.webm\n",
      "COCO-Keypoints/keypoint_rcnn_R_50_FPN_1x.yaml\n",
      "COCO-Keypoints/keypoint_rcnn_R_50_FPN_3x.yaml\n",
      "COCO-Keypoints/keypoint_rcnn_R_101_FPN_3x.yaml\n",
      "COCO-Keypoints/keypoint_rcnn_X_101_32x8d_FPN_3x.yaml\n",
      "Frame 282\n",
      "\n",
      "../pruebas/videos-prueba/Videos/Josemi/sentado6-camiseta.webm\n",
      "COCO-Keypoints/keypoint_rcnn_R_50_FPN_1x.yaml\n",
      "COCO-Keypoints/keypoint_rcnn_R_50_FPN_3x.yaml\n",
      "COCO-Keypoints/keypoint_rcnn_R_101_FPN_3x.yaml\n",
      "COCO-Keypoints/keypoint_rcnn_X_101_32x8d_FPN_3x.yaml\n",
      "Frame 195\n",
      "\n"
     ]
    }
   ],
   "source": [
    "res=[]\n",
    "for vd in vds:\n",
    "    print(vd)\n",
    "    for i in COCOPerson:\n",
    "        print(i)\n",
    "        res.append(posicionamiento(i,vd,0.99))\n",
    "    print(\"\\n\")"
   ]
  },
  {
   "cell_type": "code",
   "execution_count": 6,
   "metadata": {},
   "outputs": [],
   "source": [
    "a = pd.DataFrame(res)"
   ]
  },
  {
   "cell_type": "code",
   "execution_count": 7,
   "metadata": {},
   "outputs": [],
   "source": [
    "a=a.rename(columns={0:\"Modelo\",1:\"TCarga\",2:\"TProc\",3:\"NFrames\"})"
   ]
  },
  {
   "cell_type": "code",
   "execution_count": 8,
   "metadata": {},
   "outputs": [
    {
     "data": {
      "text/html": [
       "<div>\n",
       "<style scoped>\n",
       "    .dataframe tbody tr th:only-of-type {\n",
       "        vertical-align: middle;\n",
       "    }\n",
       "\n",
       "    .dataframe tbody tr th {\n",
       "        vertical-align: top;\n",
       "    }\n",
       "\n",
       "    .dataframe thead th {\n",
       "        text-align: right;\n",
       "    }\n",
       "</style>\n",
       "<table border=\"1\" class=\"dataframe\">\n",
       "  <thead>\n",
       "    <tr style=\"text-align: right;\">\n",
       "      <th></th>\n",
       "      <th>Modelo</th>\n",
       "      <th>TCarga</th>\n",
       "      <th>TProc</th>\n",
       "      <th>NFrames</th>\n",
       "    </tr>\n",
       "  </thead>\n",
       "  <tbody>\n",
       "    <tr>\n",
       "      <th>0</th>\n",
       "      <td>COCO-Keypoints/keypoint_rcnn_R_50_FPN_1x.yaml</td>\n",
       "      <td>2455.882812</td>\n",
       "      <td>31641.500000</td>\n",
       "      <td>300</td>\n",
       "    </tr>\n",
       "    <tr>\n",
       "      <th>1</th>\n",
       "      <td>COCO-Keypoints/keypoint_rcnn_R_50_FPN_3x.yaml</td>\n",
       "      <td>1051.872803</td>\n",
       "      <td>31840.564941</td>\n",
       "      <td>300</td>\n",
       "    </tr>\n",
       "    <tr>\n",
       "      <th>2</th>\n",
       "      <td>COCO-Keypoints/keypoint_rcnn_R_101_FPN_3x.yaml</td>\n",
       "      <td>1439.116943</td>\n",
       "      <td>39489.292969</td>\n",
       "      <td>300</td>\n",
       "    </tr>\n",
       "    <tr>\n",
       "      <th>3</th>\n",
       "      <td>COCO-Keypoints/keypoint_rcnn_X_101_32x8d_FPN_3...</td>\n",
       "      <td>2124.091797</td>\n",
       "      <td>61418.933105</td>\n",
       "      <td>300</td>\n",
       "    </tr>\n",
       "    <tr>\n",
       "      <th>4</th>\n",
       "      <td>COCO-Keypoints/keypoint_rcnn_R_50_FPN_1x.yaml</td>\n",
       "      <td>1028.804932</td>\n",
       "      <td>26832.418945</td>\n",
       "      <td>259</td>\n",
       "    </tr>\n",
       "  </tbody>\n",
       "</table>\n",
       "</div>"
      ],
      "text/plain": [
       "                                              Modelo       TCarga  \\\n",
       "0      COCO-Keypoints/keypoint_rcnn_R_50_FPN_1x.yaml  2455.882812   \n",
       "1      COCO-Keypoints/keypoint_rcnn_R_50_FPN_3x.yaml  1051.872803   \n",
       "2     COCO-Keypoints/keypoint_rcnn_R_101_FPN_3x.yaml  1439.116943   \n",
       "3  COCO-Keypoints/keypoint_rcnn_X_101_32x8d_FPN_3...  2124.091797   \n",
       "4      COCO-Keypoints/keypoint_rcnn_R_50_FPN_1x.yaml  1028.804932   \n",
       "\n",
       "          TProc  NFrames  \n",
       "0  31641.500000      300  \n",
       "1  31840.564941      300  \n",
       "2  39489.292969      300  \n",
       "3  61418.933105      300  \n",
       "4  26832.418945      259  "
      ]
     },
     "execution_count": 8,
     "metadata": {},
     "output_type": "execute_result"
    }
   ],
   "source": [
    "a.head()"
   ]
  },
  {
   "cell_type": "code",
   "execution_count": 9,
   "metadata": {},
   "outputs": [],
   "source": [
    "suma = a.groupby('Modelo').sum()"
   ]
  },
  {
   "cell_type": "code",
   "execution_count": 10,
   "metadata": {},
   "outputs": [],
   "source": [
    "suma[\"Ratio\"]=suma[\"TProc\"]/suma[\"NFrames\"]"
   ]
  },
  {
   "cell_type": "code",
   "execution_count": 11,
   "metadata": {},
   "outputs": [
    {
     "data": {
      "text/html": [
       "<div>\n",
       "<style scoped>\n",
       "    .dataframe tbody tr th:only-of-type {\n",
       "        vertical-align: middle;\n",
       "    }\n",
       "\n",
       "    .dataframe tbody tr th {\n",
       "        vertical-align: top;\n",
       "    }\n",
       "\n",
       "    .dataframe thead th {\n",
       "        text-align: right;\n",
       "    }\n",
       "</style>\n",
       "<table border=\"1\" class=\"dataframe\">\n",
       "  <thead>\n",
       "    <tr style=\"text-align: right;\">\n",
       "      <th></th>\n",
       "      <th>TCarga</th>\n",
       "      <th>TProc</th>\n",
       "      <th>NFrames</th>\n",
       "      <th>Ratio</th>\n",
       "    </tr>\n",
       "    <tr>\n",
       "      <th>Modelo</th>\n",
       "      <th></th>\n",
       "      <th></th>\n",
       "      <th></th>\n",
       "      <th></th>\n",
       "    </tr>\n",
       "  </thead>\n",
       "  <tbody>\n",
       "    <tr>\n",
       "      <th>COCO-Keypoints/keypoint_rcnn_R_101_FPN_3x.yaml</th>\n",
       "      <td>9806.493896</td>\n",
       "      <td>259716.325928</td>\n",
       "      <td>1989</td>\n",
       "      <td>130.576333</td>\n",
       "    </tr>\n",
       "    <tr>\n",
       "      <th>COCO-Keypoints/keypoint_rcnn_R_50_FPN_1x.yaml</th>\n",
       "      <td>8083.191650</td>\n",
       "      <td>216519.966309</td>\n",
       "      <td>1989</td>\n",
       "      <td>108.858706</td>\n",
       "    </tr>\n",
       "    <tr>\n",
       "      <th>COCO-Keypoints/keypoint_rcnn_R_50_FPN_3x.yaml</th>\n",
       "      <td>7539.654785</td>\n",
       "      <td>216625.355713</td>\n",
       "      <td>1989</td>\n",
       "      <td>108.911692</td>\n",
       "    </tr>\n",
       "    <tr>\n",
       "      <th>COCO-Keypoints/keypoint_rcnn_X_101_32x8d_FPN_3x.yaml</th>\n",
       "      <td>14853.028076</td>\n",
       "      <td>407086.701416</td>\n",
       "      <td>1989</td>\n",
       "      <td>204.669030</td>\n",
       "    </tr>\n",
       "  </tbody>\n",
       "</table>\n",
       "</div>"
      ],
      "text/plain": [
       "                                                          TCarga  \\\n",
       "Modelo                                                             \n",
       "COCO-Keypoints/keypoint_rcnn_R_101_FPN_3x.yaml       9806.493896   \n",
       "COCO-Keypoints/keypoint_rcnn_R_50_FPN_1x.yaml        8083.191650   \n",
       "COCO-Keypoints/keypoint_rcnn_R_50_FPN_3x.yaml        7539.654785   \n",
       "COCO-Keypoints/keypoint_rcnn_X_101_32x8d_FPN_3x...  14853.028076   \n",
       "\n",
       "                                                            TProc  NFrames  \\\n",
       "Modelo                                                                       \n",
       "COCO-Keypoints/keypoint_rcnn_R_101_FPN_3x.yaml      259716.325928     1989   \n",
       "COCO-Keypoints/keypoint_rcnn_R_50_FPN_1x.yaml       216519.966309     1989   \n",
       "COCO-Keypoints/keypoint_rcnn_R_50_FPN_3x.yaml       216625.355713     1989   \n",
       "COCO-Keypoints/keypoint_rcnn_X_101_32x8d_FPN_3x...  407086.701416     1989   \n",
       "\n",
       "                                                         Ratio  \n",
       "Modelo                                                          \n",
       "COCO-Keypoints/keypoint_rcnn_R_101_FPN_3x.yaml      130.576333  \n",
       "COCO-Keypoints/keypoint_rcnn_R_50_FPN_1x.yaml       108.858706  \n",
       "COCO-Keypoints/keypoint_rcnn_R_50_FPN_3x.yaml       108.911692  \n",
       "COCO-Keypoints/keypoint_rcnn_X_101_32x8d_FPN_3x...  204.669030  "
      ]
     },
     "execution_count": 11,
     "metadata": {},
     "output_type": "execute_result"
    }
   ],
   "source": [
    "suma"
   ]
  },
  {
   "cell_type": "code",
   "execution_count": 12,
   "metadata": {},
   "outputs": [
    {
     "name": "stdout",
     "output_type": "stream",
     "text": [
      "\\begin{tabular}{lrrrr}\n",
      "\\toprule\n",
      "{} &        TCarga &          TProc &  NFrames &       Ratio \\\\\n",
      "Modelo                                             &               &                &          &             \\\\\n",
      "\\midrule\n",
      "COCO-Keypoints/keypoint\\_rcnn\\_R\\_101\\_FPN\\_3x.yaml     &   9806.493896 &  259716.325928 &     1989 &  130.576333 \\\\\n",
      "COCO-Keypoints/keypoint\\_rcnn\\_R\\_50\\_FPN\\_1x.yaml      &   8083.191650 &  216519.966309 &     1989 &  108.858706 \\\\\n",
      "COCO-Keypoints/keypoint\\_rcnn\\_R\\_50\\_FPN\\_3x.yaml      &   7539.654785 &  216625.355713 &     1989 &  108.911692 \\\\\n",
      "COCO-Keypoints/keypoint\\_rcnn\\_X\\_101\\_32x8d\\_FPN\\_3x... &  14853.028076 &  407086.701416 &     1989 &  204.669030 \\\\\n",
      "\\bottomrule\n",
      "\\end{tabular}\n",
      "\n"
     ]
    }
   ],
   "source": [
    "print(suma.to_latex())"
   ]
  },
  {
   "cell_type": "code",
   "execution_count": 13,
   "metadata": {},
   "outputs": [
    {
     "data": {
      "text/plain": [
       "0.052986000000004196"
      ]
     },
     "execution_count": 13,
     "metadata": {},
     "output_type": "execute_result"
    }
   ],
   "source": [
    "108.911692-108.858706"
   ]
  },
  {
   "cell_type": "code",
   "execution_count": null,
   "metadata": {},
   "outputs": [],
   "source": []
  }
 ],
 "metadata": {
  "kernelspec": {
   "display_name": "FIS(py-3.6)",
   "language": "python",
   "name": "tfm"
  },
  "language_info": {
   "codemirror_mode": {
    "name": "ipython",
    "version": 3
   },
   "file_extension": ".py",
   "mimetype": "text/x-python",
   "name": "python",
   "nbconvert_exporter": "python",
   "pygments_lexer": "ipython3",
   "version": "3.6.10"
  }
 },
 "nbformat": 4,
 "nbformat_minor": 4
}
